{
  "nbformat": 4,
  "nbformat_minor": 0,
  "metadata": {
    "colab": {
      "provenance": [],
      "gpuType": "T4"
    },
    "kernelspec": {
      "name": "python3",
      "display_name": "Python 3"
    },
    "language_info": {
      "name": "python"
    },
    "accelerator": "GPU"
  },
  "cells": [
    {
      "cell_type": "code",
      "execution_count": 22,
      "metadata": {
        "id": "6JJg1dkOIwZZ",
        "colab": {
          "base_uri": "https://localhost:8080/"
        },
        "outputId": "4b412e42-8360-453a-91ee-7d259571d6f5"
      },
      "outputs": [
        {
          "output_type": "stream",
          "name": "stdout",
          "text": [
            "        Age  Number of Children     Income  Marital Status_Married  \\\n",
            "0        31                   2   26265.67                    True   \n",
            "1        55                   1   42710.36                    True   \n",
            "2        78                   1  125332.79                   False   \n",
            "3        58                   3    9992.78                   False   \n",
            "4        18                   0    8595.08                   False   \n",
            "...     ...                 ...        ...                     ...   \n",
            "413763   68                   0  109233.43                    True   \n",
            "413764   26                   0   96760.97                   False   \n",
            "413765   57                   0   77353.26                    True   \n",
            "413766   71                   2   24557.08                    True   \n",
            "413767   62                   0  107125.74                   False   \n",
            "\n",
            "        Marital Status_Single  Marital Status_Widowed  \\\n",
            "0                       False                   False   \n",
            "1                       False                   False   \n",
            "2                       False                    True   \n",
            "3                       False                   False   \n",
            "4                        True                   False   \n",
            "...                       ...                     ...   \n",
            "413763                  False                   False   \n",
            "413764                   True                   False   \n",
            "413765                  False                   False   \n",
            "413766                  False                   False   \n",
            "413767                  False                    True   \n",
            "\n",
            "        Education Level_Bachelor's Degree  Education Level_High School  \\\n",
            "0                                    True                        False   \n",
            "1                                   False                         True   \n",
            "2                                   False                        False   \n",
            "3                                   False                        False   \n",
            "4                                   False                         True   \n",
            "...                                   ...                          ...   \n",
            "413763                              False                        False   \n",
            "413764                               True                        False   \n",
            "413765                               True                        False   \n",
            "413766                              False                        False   \n",
            "413767                              False                        False   \n",
            "\n",
            "        Education Level_Master's Degree  Education Level_PhD  \\\n",
            "0                                 False                False   \n",
            "1                                 False                False   \n",
            "2                                  True                False   \n",
            "3                                  True                False   \n",
            "4                                 False                False   \n",
            "...                                 ...                  ...   \n",
            "413763                             True                False   \n",
            "413764                            False                False   \n",
            "413765                            False                False   \n",
            "413766                            False                False   \n",
            "413767                             True                False   \n",
            "\n",
            "        Smoking Status_Former  Smoking Status_Non-smoker  \\\n",
            "0                       False                       True   \n",
            "1                       False                       True   \n",
            "2                       False                       True   \n",
            "3                       False                       True   \n",
            "4                       False                       True   \n",
            "...                       ...                        ...   \n",
            "413763                   True                      False   \n",
            "413764                  False                      False   \n",
            "413765                  False                       True   \n",
            "413766                  False                       True   \n",
            "413767                   True                      False   \n",
            "\n",
            "        Physical Activity Level_Moderate  Physical Activity Level_Sedentary  \\\n",
            "0                                  False                              False   \n",
            "1                                  False                               True   \n",
            "2                                  False                               True   \n",
            "3                                   True                              False   \n",
            "4                                  False                               True   \n",
            "...                                  ...                                ...   \n",
            "413763                              True                              False   \n",
            "413764                             False                              False   \n",
            "413765                             False                               True   \n",
            "413766                             False                               True   \n",
            "413767                              True                              False   \n",
            "\n",
            "        Employment Status_Unemployed  Alcohol Consumption_Low  \\\n",
            "0                               True                    False   \n",
            "1                              False                    False   \n",
            "2                              False                     True   \n",
            "3                               True                    False   \n",
            "4                               True                     True   \n",
            "...                              ...                      ...   \n",
            "413763                         False                     True   \n",
            "413764                         False                     True   \n",
            "413765                         False                    False   \n",
            "413766                          True                    False   \n",
            "413767                         False                    False   \n",
            "\n",
            "        Alcohol Consumption_Moderate  Chronic Medical Conditions_Yes  \n",
            "0                               True                            True  \n",
            "1                              False                            True  \n",
            "2                              False                           False  \n",
            "3                               True                           False  \n",
            "4                              False                            True  \n",
            "...                              ...                             ...  \n",
            "413763                         False                           False  \n",
            "413764                         False                            True  \n",
            "413765                          True                            True  \n",
            "413766                          True                           False  \n",
            "413767                          True                           False  \n",
            "\n",
            "[413768 rows x 18 columns]\n"
          ]
        }
      ],
      "source": [
        "# Install necessary packages if not available (uncomment if needed)\n",
        "# !pip install tensorflow pandas scikit-learn numpy imbalanced-learn\n",
        "\n",
        "import pandas as pd\n",
        "import numpy as np\n",
        "import tensorflow as tf\n",
        "from tensorflow.keras.models import Sequential\n",
        "from tensorflow.keras.layers import Dense, Dropout, BatchNormalization\n",
        "from tensorflow.keras.regularizers import l2\n",
        "from tensorflow.keras.optimizers import AdamW\n",
        "from sklearn.model_selection import train_test_split\n",
        "from sklearn.preprocessing import StandardScaler\n",
        "from imblearn.over_sampling import SMOTE\n",
        "\n",
        "# Load dataset\n",
        "file_path = \"depression_data.csv\"  # Adjust if necessary\n",
        "df = pd.read_csv(file_path)\n",
        "\n",
        "# Drop non-relevant columns\n",
        "df = df.drop(columns=['Name'], errors='ignore')  # Ignore errors if 'Name' column doesn't exist\n",
        "\n",
        "df = df.drop(columns=['Dietary Habits', 'Sleep Patterns', 'History of Mental Illness', 'History of Substance Abuse', 'Family History of Depression'])\n",
        "\n",
        "# Convert categorical columns to numerical using one-hot encoding\n",
        "categorical_cols = df.select_dtypes(include=['object']).columns\n",
        "df[categorical_cols] = df[categorical_cols].astype(str)  # Ensure all categorical columns are strings\n",
        "\n",
        "# One-hot encode categorical variables\n",
        "df_encoded = pd.get_dummies(df, columns=categorical_cols, drop_first=True)\n",
        "\n",
        "print(df_encoded)"
      ]
    },
    {
      "cell_type": "code",
      "source": [
        "# # Ensure target column exists\n",
        "# if 'Chronic Medical Conditions' not in df_encoded.columns:\n",
        "#     raise ValueError(\"Target variable 'Chronic Medical Conditions' not found. Check dataset formatting.\")\n",
        "\n",
        "# Separate features and target\n",
        "X = df_encoded.drop(columns=['Chronic Medical Conditions_Yes'])\n",
        "y = df_encoded['Chronic Medical Conditions_Yes']\n",
        "\n",
        "# Handle class imbalance using SMOTE\n",
        "smote = SMOTE(random_state=42)\n",
        "X_resampled, y_resampled = smote.fit_resample(X, y)\n",
        "\n",
        "# Normalize numerical features\n",
        "scaler = StandardScaler()\n",
        "X_resampled = pd.DataFrame(scaler.fit_transform(X_resampled), columns=X.columns)"
      ],
      "metadata": {
        "id": "dNFt3hs_KCu-"
      },
      "execution_count": 33,
      "outputs": []
    },
    {
      "cell_type": "code",
      "source": [
        "X.head()\n",
        "np.savetxt(\"test.csv\",X_test,delimiter=\",\")"
      ],
      "metadata": {
        "id": "F5BtMG4mWCr4"
      },
      "execution_count": 34,
      "outputs": []
    },
    {
      "cell_type": "code",
      "source": [
        "# Split the data\n",
        "X_train, X_test, y_train, y_test = train_test_split(X_resampled, y_resampled, test_size=0.2, random_state=42)\n",
        "\n",
        "# Build the improved model with Batch Normalization and L2 Regularization\n",
        "model = Sequential([\n",
        "    Dense(256, activation='relu', kernel_regularizer=l2(0.001), input_shape=(X_train.shape[1],)),\n",
        "    BatchNormalization(),\n",
        "    Dropout(0.4),\n",
        "\n",
        "    Dense(128, activation='relu', kernel_regularizer=l2(0.001)),\n",
        "    BatchNormalization(),\n",
        "    Dropout(0.3),\n",
        "\n",
        "    Dense(64, activation='relu', kernel_regularizer=l2(0.001)),\n",
        "    BatchNormalization(),\n",
        "    Dropout(0.2),\n",
        "\n",
        "    Dense(1, activation='sigmoid')  # Binary classification output\n",
        "])\n",
        "\n",
        "# Compile the model with AdamW optimizer and learning rate scheduling\n",
        "initial_learning_rate = 0.001\n",
        "lr_schedule = tf.keras.optimizers.schedules.ExponentialDecay(\n",
        "    initial_learning_rate, decay_steps=10000, decay_rate=0.9, staircase=True\n",
        ")\n",
        "\n",
        "model.compile(optimizer=AdamW(learning_rate=lr_schedule),\n",
        "              loss='binary_crossentropy',\n",
        "              metrics=['accuracy'])\n",
        "\n",
        "# Train the model\n",
        "epochs = 25  # More epochs for better learning\n",
        "batch_size = 64  # Larger batch size for stability\n",
        "history = model.fit(X_train, y_train, epochs=epochs, batch_size=batch_size, validation_data=(X_test, y_test))\n",
        "\n",
        "# Evaluate the model\n",
        "test_loss, test_acc = model.evaluate(X_test, y_test)\n",
        "print(f\"Test Accuracy: {test_acc:.4f}\")\n",
        "\n",
        "# Save the model\n",
        "model.save(\"chronic_medical_conditions_model.h5\")"
      ],
      "metadata": {
        "colab": {
          "base_uri": "https://localhost:8080/"
        },
        "id": "e0MxvVQlWDi4",
        "outputId": "48d03b2b-80b9-446f-b96d-2f58949bc94e"
      },
      "execution_count": 25,
      "outputs": [
        {
          "output_type": "stream",
          "name": "stderr",
          "text": [
            "/usr/local/lib/python3.11/dist-packages/keras/src/layers/core/dense.py:87: UserWarning: Do not pass an `input_shape`/`input_dim` argument to a layer. When using Sequential models, prefer using an `Input(shape)` object as the first layer in the model instead.\n",
            "  super().__init__(activity_regularizer=activity_regularizer, **kwargs)\n"
          ]
        },
        {
          "output_type": "stream",
          "name": "stdout",
          "text": [
            "Epoch 1/25\n",
            "\u001b[1m6940/6940\u001b[0m \u001b[32m━━━━━━━━━━━━━━━━━━━━\u001b[0m\u001b[37m\u001b[0m \u001b[1m42s\u001b[0m 5ms/step - accuracy: 0.6815 - loss: 0.6989 - val_accuracy: 0.7092 - val_loss: 0.5340\n",
            "Epoch 2/25\n",
            "\u001b[1m6940/6940\u001b[0m \u001b[32m━━━━━━━━━━━━━━━━━━━━\u001b[0m\u001b[37m\u001b[0m \u001b[1m31s\u001b[0m 4ms/step - accuracy: 0.7068 - loss: 0.5387 - val_accuracy: 0.7089 - val_loss: 0.5297\n",
            "Epoch 3/25\n",
            "\u001b[1m6940/6940\u001b[0m \u001b[32m━━━━━━━━━━━━━━━━━━━━\u001b[0m\u001b[37m\u001b[0m \u001b[1m39s\u001b[0m 4ms/step - accuracy: 0.7067 - loss: 0.5349 - val_accuracy: 0.7073 - val_loss: 0.5285\n",
            "Epoch 4/25\n",
            "\u001b[1m6940/6940\u001b[0m \u001b[32m━━━━━━━━━━━━━━━━━━━━\u001b[0m\u001b[37m\u001b[0m \u001b[1m43s\u001b[0m 4ms/step - accuracy: 0.7077 - loss: 0.5305 - val_accuracy: 0.7093 - val_loss: 0.5267\n",
            "Epoch 5/25\n",
            "\u001b[1m6940/6940\u001b[0m \u001b[32m━━━━━━━━━━━━━━━━━━━━\u001b[0m\u001b[37m\u001b[0m \u001b[1m26s\u001b[0m 4ms/step - accuracy: 0.7068 - loss: 0.5295 - val_accuracy: 0.7060 - val_loss: 0.5261\n",
            "Epoch 6/25\n",
            "\u001b[1m6940/6940\u001b[0m \u001b[32m━━━━━━━━━━━━━━━━━━━━\u001b[0m\u001b[37m\u001b[0m \u001b[1m31s\u001b[0m 5ms/step - accuracy: 0.7083 - loss: 0.5287 - val_accuracy: 0.7094 - val_loss: 0.5242\n",
            "Epoch 7/25\n",
            "\u001b[1m6940/6940\u001b[0m \u001b[32m━━━━━━━━━━━━━━━━━━━━\u001b[0m\u001b[37m\u001b[0m \u001b[1m38s\u001b[0m 4ms/step - accuracy: 0.7081 - loss: 0.5272 - val_accuracy: 0.7100 - val_loss: 0.5263\n",
            "Epoch 8/25\n",
            "\u001b[1m6940/6940\u001b[0m \u001b[32m━━━━━━━━━━━━━━━━━━━━\u001b[0m\u001b[37m\u001b[0m \u001b[1m44s\u001b[0m 4ms/step - accuracy: 0.7079 - loss: 0.5262 - val_accuracy: 0.7094 - val_loss: 0.5219\n",
            "Epoch 9/25\n",
            "\u001b[1m6940/6940\u001b[0m \u001b[32m━━━━━━━━━━━━━━━━━━━━\u001b[0m\u001b[37m\u001b[0m \u001b[1m37s\u001b[0m 4ms/step - accuracy: 0.7098 - loss: 0.5235 - val_accuracy: 0.7094 - val_loss: 0.5221\n",
            "Epoch 10/25\n",
            "\u001b[1m6940/6940\u001b[0m \u001b[32m━━━━━━━━━━━━━━━━━━━━\u001b[0m\u001b[37m\u001b[0m \u001b[1m40s\u001b[0m 4ms/step - accuracy: 0.7093 - loss: 0.5234 - val_accuracy: 0.7094 - val_loss: 0.5218\n",
            "Epoch 11/25\n",
            "\u001b[1m6940/6940\u001b[0m \u001b[32m━━━━━━━━━━━━━━━━━━━━\u001b[0m\u001b[37m\u001b[0m \u001b[1m27s\u001b[0m 4ms/step - accuracy: 0.7095 - loss: 0.5226 - val_accuracy: 0.7094 - val_loss: 0.5212\n",
            "Epoch 12/25\n",
            "\u001b[1m6940/6940\u001b[0m \u001b[32m━━━━━━━━━━━━━━━━━━━━\u001b[0m\u001b[37m\u001b[0m \u001b[1m26s\u001b[0m 4ms/step - accuracy: 0.7091 - loss: 0.5226 - val_accuracy: 0.7094 - val_loss: 0.5208\n",
            "Epoch 13/25\n",
            "\u001b[1m6940/6940\u001b[0m \u001b[32m━━━━━━━━━━━━━━━━━━━━\u001b[0m\u001b[37m\u001b[0m \u001b[1m26s\u001b[0m 4ms/step - accuracy: 0.7090 - loss: 0.5217 - val_accuracy: 0.7094 - val_loss: 0.5204\n",
            "Epoch 14/25\n",
            "\u001b[1m6940/6940\u001b[0m \u001b[32m━━━━━━━━━━━━━━━━━━━━\u001b[0m\u001b[37m\u001b[0m \u001b[1m26s\u001b[0m 4ms/step - accuracy: 0.7082 - loss: 0.5221 - val_accuracy: 0.7093 - val_loss: 0.5205\n",
            "Epoch 15/25\n",
            "\u001b[1m6940/6940\u001b[0m \u001b[32m━━━━━━━━━━━━━━━━━━━━\u001b[0m\u001b[37m\u001b[0m \u001b[1m54s\u001b[0m 6ms/step - accuracy: 0.7098 - loss: 0.5205 - val_accuracy: 0.7094 - val_loss: 0.5196\n",
            "Epoch 16/25\n",
            "\u001b[1m6940/6940\u001b[0m \u001b[32m━━━━━━━━━━━━━━━━━━━━\u001b[0m\u001b[37m\u001b[0m \u001b[1m26s\u001b[0m 4ms/step - accuracy: 0.7087 - loss: 0.5208 - val_accuracy: 0.7094 - val_loss: 0.5194\n",
            "Epoch 17/25\n",
            "\u001b[1m6940/6940\u001b[0m \u001b[32m━━━━━━━━━━━━━━━━━━━━\u001b[0m\u001b[37m\u001b[0m \u001b[1m41s\u001b[0m 4ms/step - accuracy: 0.7108 - loss: 0.5204 - val_accuracy: 0.7094 - val_loss: 0.5191\n",
            "Epoch 18/25\n",
            "\u001b[1m6940/6940\u001b[0m \u001b[32m━━━━━━━━━━━━━━━━━━━━\u001b[0m\u001b[37m\u001b[0m \u001b[1m41s\u001b[0m 4ms/step - accuracy: 0.7097 - loss: 0.5198 - val_accuracy: 0.7094 - val_loss: 0.5191\n",
            "Epoch 19/25\n",
            "\u001b[1m6940/6940\u001b[0m \u001b[32m━━━━━━━━━━━━━━━━━━━━\u001b[0m\u001b[37m\u001b[0m \u001b[1m41s\u001b[0m 4ms/step - accuracy: 0.7104 - loss: 0.5189 - val_accuracy: 0.7094 - val_loss: 0.5186\n",
            "Epoch 20/25\n",
            "\u001b[1m6940/6940\u001b[0m \u001b[32m━━━━━━━━━━━━━━━━━━━━\u001b[0m\u001b[37m\u001b[0m \u001b[1m41s\u001b[0m 4ms/step - accuracy: 0.7090 - loss: 0.5202 - val_accuracy: 0.7097 - val_loss: 0.5186\n",
            "Epoch 21/25\n",
            "\u001b[1m6940/6940\u001b[0m \u001b[32m━━━━━━━━━━━━━━━━━━━━\u001b[0m\u001b[37m\u001b[0m \u001b[1m25s\u001b[0m 4ms/step - accuracy: 0.7089 - loss: 0.5201 - val_accuracy: 0.7093 - val_loss: 0.5186\n",
            "Epoch 22/25\n",
            "\u001b[1m6940/6940\u001b[0m \u001b[32m━━━━━━━━━━━━━━━━━━━━\u001b[0m\u001b[37m\u001b[0m \u001b[1m42s\u001b[0m 4ms/step - accuracy: 0.7100 - loss: 0.5191 - val_accuracy: 0.7094 - val_loss: 0.5183\n",
            "Epoch 23/25\n",
            "\u001b[1m6940/6940\u001b[0m \u001b[32m━━━━━━━━━━━━━━━━━━━━\u001b[0m\u001b[37m\u001b[0m \u001b[1m26s\u001b[0m 4ms/step - accuracy: 0.7106 - loss: 0.5183 - val_accuracy: 0.7094 - val_loss: 0.5182\n",
            "Epoch 24/25\n",
            "\u001b[1m6940/6940\u001b[0m \u001b[32m━━━━━━━━━━━━━━━━━━━━\u001b[0m\u001b[37m\u001b[0m \u001b[1m42s\u001b[0m 4ms/step - accuracy: 0.7096 - loss: 0.5190 - val_accuracy: 0.7100 - val_loss: 0.5182\n",
            "Epoch 25/25\n",
            "\u001b[1m6940/6940\u001b[0m \u001b[32m━━━━━━━━━━━━━━━━━━━━\u001b[0m\u001b[37m\u001b[0m \u001b[1m40s\u001b[0m 4ms/step - accuracy: 0.7095 - loss: 0.5182 - val_accuracy: 0.7094 - val_loss: 0.5182\n",
            "\u001b[1m3470/3470\u001b[0m \u001b[32m━━━━━━━━━━━━━━━━━━━━\u001b[0m\u001b[37m\u001b[0m \u001b[1m9s\u001b[0m 3ms/step - accuracy: 0.7095 - loss: 0.5180\n"
          ]
        },
        {
          "output_type": "stream",
          "name": "stderr",
          "text": [
            "WARNING:absl:You are saving your model as an HDF5 file via `model.save()` or `keras.saving.save_model(model)`. This file format is considered legacy. We recommend using instead the native Keras format, e.g. `model.save('my_model.keras')` or `keras.saving.save_model(model, 'my_model.keras')`. \n"
          ]
        },
        {
          "output_type": "stream",
          "name": "stdout",
          "text": [
            "Test Accuracy: 0.7094\n"
          ]
        }
      ]
    },
    {
      "cell_type": "code",
      "source": [
        "# Function for making predictions\n",
        "def predict_condition(input_data):\n",
        "    input_df = pd.DataFrame([input_data], columns=X.columns)\n",
        "    input_scaled = scaler.transform(input_df)\n",
        "    print(input_scaled)\n",
        "    np.savetxt(\"test.csv\",input_scaled,delimiter=\",\")\n",
        "    prediction = model.predict(input_scaled)[0][0]\n",
        "    return 'Likely Depressed' if prediction > 0.5 else 'Unlikely Depressed'\n",
        "\n",
        "# Example prediction\n",
        "sample_input = X_test.iloc[0].to_dict()\n",
        "print(f\"Predicted Condition: {predict_condition(sample_input)}\")"
      ],
      "metadata": {
        "colab": {
          "base_uri": "https://localhost:8080/"
        },
        "id": "E-22EuQKQGXi",
        "outputId": "7ae8c334-aa3b-4a8a-d085-ed0bcf54f4e4"
      },
      "execution_count": 31,
      "outputs": [
        {
          "output_type": "stream",
          "name": "stdout",
          "text": [
            "[[-2.60856067 -1.17267125 -1.23673376 -4.07604198 -1.72967426  4.72342283\n",
            "  -2.20884662  2.46044362 -1.75735792 -1.27089286 -2.18841079  0.16633913\n",
            "   1.34298722 -2.870721    1.89826349 -2.44098462  1.13057284]]\n",
            "\u001b[1m1/1\u001b[0m \u001b[32m━━━━━━━━━━━━━━━━━━━━\u001b[0m\u001b[37m\u001b[0m \u001b[1m0s\u001b[0m 52ms/step\n",
            "Predicted Condition: Unlikely Depressed\n"
          ]
        }
      ]
    },
    {
      "cell_type": "code",
      "source": [
        "from sklearn.metrics import classification_report, f1_score\n",
        "# Generate classification report\n",
        "y_pred_probs = model.predict(X_test)\n",
        "y_pred_classes = (y_pred_probs > 0.5).astype(int)  # Convert probabilities to binary classes\n",
        "\n",
        "classification_rep = classification_report(y_test, y_pred_classes, digits=2)\n",
        "f1 = f1_score(y_test, y_pred_classes, average=\"weighted\")\n",
        "\n",
        "# Display classification report and F1 score\n",
        "print(\"=\"*50)\n",
        "print(f\"F1 Score: {f1:.16f}\\n\")\n",
        "print(classification_rep)"
      ],
      "metadata": {
        "colab": {
          "base_uri": "https://localhost:8080/"
        },
        "id": "g2KsxeZ-hpNe",
        "outputId": "a8b46af3-ead7-4231-cf43-857261203db7"
      },
      "execution_count": 28,
      "outputs": [
        {
          "output_type": "stream",
          "name": "stdout",
          "text": [
            "\u001b[1m3470/3470\u001b[0m \u001b[32m━━━━━━━━━━━━━━━━━━━━\u001b[0m\u001b[37m\u001b[0m \u001b[1m5s\u001b[0m 1ms/step\n",
            "==================================================\n",
            "F1 Score: 0.6823414626402392\n",
            "\n",
            "              precision    recall  f1-score   support\n",
            "\n",
            "       False       0.63      1.00      0.78     55617\n",
            "        True       1.00      0.42      0.59     55408\n",
            "\n",
            "    accuracy                           0.71    111025\n",
            "   macro avg       0.82      0.71      0.68    111025\n",
            "weighted avg       0.82      0.71      0.68    111025\n",
            "\n"
          ]
        }
      ]
    }
  ]
}